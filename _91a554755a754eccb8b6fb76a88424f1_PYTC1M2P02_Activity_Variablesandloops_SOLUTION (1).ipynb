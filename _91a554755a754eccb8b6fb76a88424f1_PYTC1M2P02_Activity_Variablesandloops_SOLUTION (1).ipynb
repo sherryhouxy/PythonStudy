{
 "cells": [
  {
   "cell_type": "markdown",
   "id": "e81dbe34",
   "metadata": {
    "id": "e81dbe34"
   },
   "source": [
    "\n",
    "## How to Interact with this Jupyter Notebook\n",
    "In this activity, you will use a Jupyter Notebook, which integrates both text and code.\n",
    "The gray boxes contain executable code, which you will run in order to view its output.\n",
    "The text in between the code provides instructions.\n",
    "\n",
    "### Scenario: Taming Temperature Data with Python\n",
    "You're a data analyst working on a weather project. You've collected a series of temperature readings in Celsius,\n",
    "but your analysis tools and reports require temperatures in Fahrenheit.\n",
    "It's time to put your Python skills to work!\n",
    "You’ll create a program that efficiently converts a list of Celsius temperatures into their Fahrenheit equivalents,\n",
    "demonstrating the power of loops and variables in handling real-world data transformations.\n",
    "\n",
    "### Activity Summary:\n",
    "- Create and initialize lists to store temperature data.\n",
    "- Use a loop to iterate through Celsius temperatures.\n",
    "- Apply the Celsius-to-Fahrenheit conversion formula.\n",
    "- Store converted Fahrenheit temperatures in a new list.\n"
   ]
  },
  {
   "cell_type": "code",
   "execution_count": null,
   "id": "832b9aab",
   "metadata": {
    "colab": {
     "base_uri": "https://localhost:8080/"
    },
    "executionInfo": {
     "elapsed": 155,
     "status": "ok",
     "timestamp": 1732303323416,
     "user": {
      "displayName": "George Mount",
      "userId": "05009073335156401284"
     },
     "user_tz": 300
    },
    "id": "832b9aab",
    "outputId": "d03392cd-d51c-4e11-d44b-f44b8938a285"
   },
   "outputs": [
    {
     "name": "stdout",
     "output_type": "stream",
     "text": [
      "Celsius Temperatures: [0, 10, 25, 32, 100]\n",
      "Fahrenheit Temperatures: []\n"
     ]
    }
   ],
   "source": [
    "# Step 1: Store temperature data\n",
    "celsius_temperatures = [0, 10, 25, 32, 100]  # Celsius temperatures list\n",
    "fahrenheit_temperatures = []  # Empty list for Fahrenheit temperatures\n",
    "\n",
    "# Printing initial state of lists\n",
    "print(\"Celsius Temperatures:\", celsius_temperatures)\n",
    "print(\"Fahrenheit Temperatures:\", fahrenheit_temperatures)"
   ]
  },
  {
   "cell_type": "markdown",
   "id": "1bb357b5",
   "metadata": {
    "id": "1bb357b5"
   },
   "source": [
    "\n",
    "### Step 2: Convert temperatures\n",
    "It's time to convert your Celsius temperatures to Fahrenheit:\n",
    "- A for loop to iterate through each celsius value in the celsius_temperatures list has been provided for you.\n",
    "- Inside the loop:\n",
    "  - Apply the Celsius to Fahrenheit conversion formula: F = (C * 9/5) + 32, where F is the Fahrenheit temperature and C is the Celsius temperature.\n",
    "  - The code to store each calculated fahrenheit value in the fahrenheit_temperatures list using the append() method has been provided for you.\n",
    "- Print the results\n"
   ]
  },
  {
   "cell_type": "code",
   "execution_count": null,
   "id": "8e886c2c",
   "metadata": {
    "colab": {
     "base_uri": "https://localhost:8080/"
    },
    "executionInfo": {
     "elapsed": 152,
     "status": "ok",
     "timestamp": 1732303326192,
     "user": {
      "displayName": "George Mount",
      "userId": "05009073335156401284"
     },
     "user_tz": 300
    },
    "id": "8e886c2c",
    "outputId": "ccab697e-740d-4eee-f473-6625fc88529e"
   },
   "outputs": [
    {
     "name": "stdout",
     "output_type": "stream",
     "text": [
      "Celsius Temperatures: [0, 10, 25, 32, 100]\n",
      "Fahrenheit Temperatures: [32.0, 50.0, 77.0, 89.6, 212.0]\n"
     ]
    }
   ],
   "source": [
    "# Lists from Step 1\n",
    "celsius_temperatures = [0, 10, 25, 32, 100]\n",
    "fahrenheit_temperatures = []\n",
    "\n",
    "# Convert each Celsius temperature to Fahrenheit\n",
    "for celsius in celsius_temperatures:  #Start the loop\n",
    "    fahrenheit = (celsius * 9/5) + 32  # Celsius to Fahrenheit conversion formula\n",
    "    fahrenheit_temperatures.append(fahrenheit)  # Append to the list\n",
    "\n",
    "# Print the results (including the output from Step 1)\n",
    "print(\"Celsius Temperatures:\", celsius_temperatures)\n",
    "print(\"Fahrenheit Temperatures:\", fahrenheit_temperatures)"
   ]
  }
 ],
 "metadata": {
  "colab": {
   "provenance": []
  },
  "kernelspec": {
   "display_name": "Python 3",
   "name": "python3"
  },
  "language_info": {
   "name": "python"
  }
 },
 "nbformat": 4,
 "nbformat_minor": 5
}
